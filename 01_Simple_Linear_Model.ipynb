{
  "nbformat": 4,
  "nbformat_minor": 0,
  "metadata": {
    "colab": {
      "name": "01_Simple_Linear_Model.ipynb",
      "version": "0.3.2",
      "views": {},
      "default_view": {},
      "provenance": [],
      "collapsed_sections": [
        "8TbKO1Kv-9XQ",
        "4tiKrliq-9X4",
        "htUpCAoC-9Ya",
        "SagIK1sx-9Yo",
        "lQS5ncBh-9Y2",
        "1PFxESJZ-9ZA",
        "lEymnWWF-9ZI",
        "gnQxw2DT-9ZO",
        "GUuWM3s--9aQ"
      ]
    },
    "kernelspec": {
      "display_name": "Python 3",
      "language": "python",
      "name": "python3"
    },
    "accelerator": "GPU"
  },
  "cells": [
    {
      "metadata": {
        "id": "EBOJup85-9SO",
        "colab_type": "text"
      },
      "cell_type": "markdown",
      "source": [
        "# TensorFlow Tutorial \n",
        "# Modelo Linear Simples\n",
        "\n",
        "by [Magnus Erik Hvass Pedersen](http://www.hvass-labs.org/)\n",
        "/ [GitHub](https://github.com/Hvass-Labs/TensorFlow-Tutorials) / [Videos on YouTube](https://www.youtube.com/playlist?list=PL9Hr9sNUjfsmEu1ZniY0XpHSzl5uihcXZ)"
      ]
    },
    {
      "metadata": {
        "id": "qRWzMOOt-9SW",
        "colab_type": "text"
      },
      "cell_type": "markdown",
      "source": [
        "## Introdução\n",
        "\n",
        "Este tutorial demonstra o fluxo de trabalho básico do uso do TensorFlow com um modelo linear simples. Depois de carregar o conjunto de dados chamado MNIST com imagens de dígitos escritos à mão, definimos e otimizamos um modelo matemático simples em TensorFlow. Os resultados são então plotados e discutidos.\n",
        "\n",
        "Você deve estar familiarizado com álgebra linear básica, Python e o editor Jupyter Notebook. Também ajuda se você tiver uma compreensão básica de Machine Learning e classificação."
      ]
    },
    {
      "metadata": {
        "id": "Y3Fz3CAN-9Sc",
        "colab_type": "text"
      },
      "cell_type": "markdown",
      "source": [
        "## Imports"
      ]
    },
    {
      "metadata": {
        "id": "Ck6o8G7I-9Sk",
        "colab_type": "code",
        "colab": {
          "autoexec": {
            "startup": false,
            "wait_interval": 0
          }
        }
      },
      "cell_type": "code",
      "source": [
        "%matplotlib inline\n",
        "import matplotlib.pyplot as plt\n",
        "import tensorflow as tf\n",
        "import numpy as np\n",
        "from sklearn.metrics import confusion_matrix"
      ],
      "execution_count": 0,
      "outputs": []
    },
    {
      "metadata": {
        "id": "o8PJ8Wqv-9TC",
        "colab_type": "text"
      },
      "cell_type": "markdown",
      "source": [
        "Isso foi desenvolvido usando o Python 3.6.1 (Anaconda) e a versão do TensorFlow:"
      ]
    },
    {
      "metadata": {
        "id": "CJAuAOgv-9TI",
        "colab_type": "code",
        "colab": {
          "autoexec": {
            "startup": false,
            "wait_interval": 0
          },
          "output_extras": [
            {
              "item_id": 1
            }
          ],
          "base_uri": "https://localhost:8080/",
          "height": 36
        },
        "outputId": "1ee169eb-6754-4a18-8b79-b35618dc4fe9",
        "executionInfo": {
          "status": "ok",
          "timestamp": 1521912725788,
          "user_tz": 180,
          "elapsed": 628,
          "user": {
            "displayName": "EDRESSON CASANOVA",
            "photoUrl": "https://lh3.googleusercontent.com/a/default-user=s128",
            "userId": "107944237237310514363"
          }
        }
      },
      "cell_type": "code",
      "source": [
        "tf.__version__"
      ],
      "execution_count": 2,
      "outputs": [
        {
          "output_type": "execute_result",
          "data": {
            "text/plain": [
              "'1.6.0'"
            ]
          },
          "metadata": {
            "tags": []
          },
          "execution_count": 2
        }
      ]
    },
    {
      "metadata": {
        "id": "77LnJA4D-9Te",
        "colab_type": "text"
      },
      "cell_type": "markdown",
      "source": [
        "## Load Data"
      ]
    },
    {
      "metadata": {
        "id": "YJLhrVsw-9Tg",
        "colab_type": "text"
      },
      "cell_type": "markdown",
      "source": [
        "O conjunto de dados MNIST é de cerca de 12 MB e será baixado automaticamente se não estiver localizado no caminho fornecido."
      ]
    },
    {
      "metadata": {
        "id": "SD_HlWMc-9Tk",
        "colab_type": "code",
        "colab": {
          "autoexec": {
            "startup": false,
            "wait_interval": 0
          },
          "output_extras": [
            {
              "item_id": 2
            }
          ],
          "base_uri": "https://localhost:8080/",
          "height": 161
        },
        "outputId": "bc735c67-ef8d-45a0-e06e-f45b61747fcc",
        "executionInfo": {
          "status": "ok",
          "timestamp": 1521912730796,
          "user_tz": 180,
          "elapsed": 2122,
          "user": {
            "displayName": "EDRESSON CASANOVA",
            "photoUrl": "https://lh3.googleusercontent.com/a/default-user=s128",
            "userId": "107944237237310514363"
          }
        }
      },
      "cell_type": "code",
      "source": [
        "from tensorflow.examples.tutorials.mnist import input_data\n",
        "data = input_data.read_data_sets(\"data/MNIST/\", one_hot=True)"
      ],
      "execution_count": 3,
      "outputs": [
        {
          "output_type": "stream",
          "text": [
            "Successfully downloaded train-images-idx3-ubyte.gz 9912422 bytes.\n",
            "Extracting data/MNIST/train-images-idx3-ubyte.gz\n",
            "Successfully downloaded train-labels-idx1-ubyte.gz 28881 bytes.\n",
            "Extracting data/MNIST/train-labels-idx1-ubyte.gz\n",
            "Successfully downloaded t10k-images-idx3-ubyte.gz 1648877 bytes.\n",
            "Extracting data/MNIST/t10k-images-idx3-ubyte.gz\n",
            "Successfully downloaded t10k-labels-idx1-ubyte.gz 4542 bytes.\n",
            "Extracting data/MNIST/t10k-labels-idx1-ubyte.gz\n"
          ],
          "name": "stdout"
        }
      ]
    },
    {
      "metadata": {
        "id": "4XYQgOsG-9T6",
        "colab_type": "text"
      },
      "cell_type": "markdown",
      "source": [
        "O conjunto de dados MNIST foi agora carregado e consiste em 70.000 imagens e rótulos associados (isto é, classificações das imagens). O conjunto de dados é dividido em 3 subconjuntos mutuamente exclusivos. Nós usaremos somente os conjuntos de treinamento e teste neste tutorial."
      ]
    },
    {
      "metadata": {
        "id": "7Llh7WFp-9T-",
        "colab_type": "code",
        "colab": {
          "autoexec": {
            "startup": false,
            "wait_interval": 0
          },
          "output_extras": [
            {
              "item_id": 1
            }
          ],
          "base_uri": "https://localhost:8080/",
          "height": 90
        },
        "outputId": "65039cdb-a1d4-48ae-a713-0106c3ea3c26",
        "executionInfo": {
          "status": "ok",
          "timestamp": 1521912733402,
          "user_tz": 180,
          "elapsed": 666,
          "user": {
            "displayName": "EDRESSON CASANOVA",
            "photoUrl": "https://lh3.googleusercontent.com/a/default-user=s128",
            "userId": "107944237237310514363"
          }
        }
      },
      "cell_type": "code",
      "source": [
        "print(\"Size of:\")\n",
        "print(\"- Training-set:\\t\\t{}\".format(len(data.train.labels)))\n",
        "print(\"- Test-set:\\t\\t{}\".format(len(data.test.labels)))\n",
        "print(\"- Validation-set:\\t{}\".format(len(data.validation.labels)))"
      ],
      "execution_count": 4,
      "outputs": [
        {
          "output_type": "stream",
          "text": [
            "Size of:\n",
            "- Training-set:\t\t55000\n",
            "- Test-set:\t\t10000\n",
            "- Validation-set:\t5000\n"
          ],
          "name": "stdout"
        }
      ]
    },
    {
      "metadata": {
        "id": "VWUJkcrY-9Ua",
        "colab_type": "text"
      },
      "cell_type": "markdown",
      "source": [
        "### One-Hot Encoding"
      ]
    },
    {
      "metadata": {
        "id": "Z-T1spec-9Ue",
        "colab_type": "text"
      },
      "cell_type": "markdown",
      "source": [
        "O conjunto de dados foi carregado como a chamada codificação One-Hot. Isso significa que os rótulos foram convertidos de um único número para um vetor cuja extensão é igual ao número de classes possíveis. Todos os elementos do vetor são zero, exceto para o elemento $i$ que é um e significa que a classe é $i$. Por exemplo, as etiquetas codificadas do One-Hot para as primeiras 5 imagens no conjunto de teste são:"
      ]
    },
    {
      "metadata": {
        "id": "Dp9GtHqF-9Ui",
        "colab_type": "code",
        "colab": {
          "autoexec": {
            "startup": false,
            "wait_interval": 0
          },
          "output_extras": [
            {
              "item_id": 1
            }
          ],
          "base_uri": "https://localhost:8080/",
          "height": 107
        },
        "outputId": "34a3432e-280f-47ca-a413-d018bc3f1c80",
        "executionInfo": {
          "status": "ok",
          "timestamp": 1521912740298,
          "user_tz": 180,
          "elapsed": 740,
          "user": {
            "displayName": "EDRESSON CASANOVA",
            "photoUrl": "https://lh3.googleusercontent.com/a/default-user=s128",
            "userId": "107944237237310514363"
          }
        }
      },
      "cell_type": "code",
      "source": [
        "data.test.labels[0:5, :]"
      ],
      "execution_count": 5,
      "outputs": [
        {
          "output_type": "execute_result",
          "data": {
            "text/plain": [
              "array([[0., 0., 0., 0., 0., 0., 0., 1., 0., 0.],\n",
              "       [0., 0., 1., 0., 0., 0., 0., 0., 0., 0.],\n",
              "       [0., 1., 0., 0., 0., 0., 0., 0., 0., 0.],\n",
              "       [1., 0., 0., 0., 0., 0., 0., 0., 0., 0.],\n",
              "       [0., 0., 0., 0., 1., 0., 0., 0., 0., 0.]])"
            ]
          },
          "metadata": {
            "tags": []
          },
          "execution_count": 5
        }
      ]
    },
    {
      "metadata": {
        "id": "r0Pjqqg5-9U4",
        "colab_type": "text"
      },
      "cell_type": "markdown",
      "source": [
        "Também precisamos das classes como números únicos para várias comparações e medidas de desempenho, por isso, convertemos os vetores codificados do One-Hot em um único número, pegando o índice do elemento mais alto. Observe que a palavra 'class' é uma palavra-chave usada em Python, portanto, precisamos usar o nome 'cls'."
      ]
    },
    {
      "metadata": {
        "id": "ZuF3zKM9-9U6",
        "colab_type": "code",
        "colab": {
          "autoexec": {
            "startup": false,
            "wait_interval": 0
          }
        }
      },
      "cell_type": "code",
      "source": [
        "data.test.cls = np.array([label.argmax() for label in data.test.labels])"
      ],
      "execution_count": 0,
      "outputs": []
    },
    {
      "metadata": {
        "id": "P2SP0JPH-9VK",
        "colab_type": "text"
      },
      "cell_type": "markdown",
      "source": [
        "Agora podemos ver a classe para as primeiras cinco imagens no conjunto de testes. Compare-os com os vetores codificados do One-Hot acima. Por exemplo, a classe da primeira imagem é 7, que corresponde a um vetor codificado em One-Hot, no qual todos os elementos são zero, exceto para o elemento com índice 7."
      ]
    },
    {
      "metadata": {
        "id": "p6cPhRZO-9VM",
        "colab_type": "code",
        "colab": {
          "autoexec": {
            "startup": false,
            "wait_interval": 0
          },
          "output_extras": [
            {
              "item_id": 1
            }
          ],
          "base_uri": "https://localhost:8080/",
          "height": 36
        },
        "outputId": "7924b095-6b6b-40fa-8fd9-310b5a8eb973",
        "executionInfo": {
          "status": "ok",
          "timestamp": 1521912746006,
          "user_tz": 180,
          "elapsed": 664,
          "user": {
            "displayName": "EDRESSON CASANOVA",
            "photoUrl": "https://lh3.googleusercontent.com/a/default-user=s128",
            "userId": "107944237237310514363"
          }
        }
      },
      "cell_type": "code",
      "source": [
        "data.test.cls[0:5]"
      ],
      "execution_count": 7,
      "outputs": [
        {
          "output_type": "execute_result",
          "data": {
            "text/plain": [
              "array([7, 2, 1, 0, 4])"
            ]
          },
          "metadata": {
            "tags": []
          },
          "execution_count": 7
        }
      ]
    },
    {
      "metadata": {
        "id": "QOVqQukY-9Va",
        "colab_type": "text"
      },
      "cell_type": "markdown",
      "source": [
        "### Data dimensions"
      ]
    },
    {
      "metadata": {
        "id": "hbnLQvK7-9Vc",
        "colab_type": "text"
      },
      "cell_type": "markdown",
      "source": [
        "As dimensões de dados são usadas em vários lugares no código-fonte abaixo. Na programação de computadores, geralmente é melhor usar variáveis e constantes do que ter que codificar números específicos toda vez que esse número for usado. Isso significa que os números só precisam ser alterados em um único lugar."
      ]
    },
    {
      "metadata": {
        "id": "5NGZE3_4-9Vg",
        "colab_type": "code",
        "colab": {
          "autoexec": {
            "startup": false,
            "wait_interval": 0
          }
        }
      },
      "cell_type": "code",
      "source": [
        "# Sabemos que as imagens MNIST são 28 pixels em cada dimensão.\n",
        "img_size = 28\n",
        "\n",
        "# Imagens são armazenadas em matrizes unidimensionais desse comprimento.\n",
        "img_size_flat = img_size * img_size\n",
        "\n",
        "# Tuple com altura e largura de imagens usadas para reformular matrizes.\n",
        "img_shape = (img_size, img_size)\n",
        "\n",
        "# Número de classes, uma classe para cada um dos 10 dígitos.\n",
        "num_classes = 10"
      ],
      "execution_count": 0,
      "outputs": []
    },
    {
      "metadata": {
        "id": "2z1KYBEt-9Vu",
        "colab_type": "text"
      },
      "cell_type": "markdown",
      "source": [
        "### Helper-function for plotting images"
      ]
    },
    {
      "metadata": {
        "id": "6M3yQSux-9Vw",
        "colab_type": "text"
      },
      "cell_type": "markdown",
      "source": [
        "Função usada para plotar 9 imagens em uma grade de 3x3 e escrever as classes verdadeiras e previstas abaixo de cada imagem."
      ]
    },
    {
      "metadata": {
        "id": "4XgOLOF3-9Vy",
        "colab_type": "code",
        "colab": {
          "autoexec": {
            "startup": false,
            "wait_interval": 0
          }
        }
      },
      "cell_type": "code",
      "source": [
        "def plot_images(images, cls_true, cls_pred=None):\n",
        "    assert len(images) == len(cls_true) == 9\n",
        "    \n",
        "    # Crie uma figura com sub-gráficos 3x3.\n",
        "    fig, axes = plt.subplots(3, 3)\n",
        "    fig.subplots_adjust(hspace=0.3, wspace=0.3)\n",
        "\n",
        "    for i, ax in enumerate(axes.flat):\n",
        "        # Plot image.\n",
        "        ax.imshow(images[i].reshape(img_shape), cmap='binary')\n",
        "\n",
        "        # Show true and predicted classes.\n",
        "        if cls_pred is None:\n",
        "            xlabel = \"True: {0}\".format(cls_true[i])\n",
        "        else:\n",
        "            xlabel = \"True: {0}, Pred: {1}\".format(cls_true[i], cls_pred[i])\n",
        "\n",
        "        ax.set_xlabel(xlabel)\n",
        "        \n",
        "        # Remove ticks from the plot.\n",
        "        ax.set_xticks([])\n",
        "        ax.set_yticks([])\n",
        "        \n",
        "    # Ensure the plot is shown correctly with multiple plots\n",
        "    # in a single Notebook cell.\n",
        "    plt.show()"
      ],
      "execution_count": 0,
      "outputs": []
    },
    {
      "metadata": {
        "id": "neFyX2aX-9V-",
        "colab_type": "text"
      },
      "cell_type": "markdown",
      "source": [
        "### Plot a few images to see if data is correct"
      ]
    },
    {
      "metadata": {
        "id": "6O-KTj7u-9WA",
        "colab_type": "code",
        "colab": {
          "autoexec": {
            "startup": false,
            "wait_interval": 0
          },
          "output_extras": [
            {
              "item_id": 1
            }
          ],
          "base_uri": "https://localhost:8080/",
          "height": 262
        },
        "outputId": "4d9579ee-e7e1-4004-8948-0f20d0970626",
        "executionInfo": {
          "status": "ok",
          "timestamp": 1521912798890,
          "user_tz": 180,
          "elapsed": 926,
          "user": {
            "displayName": "EDRESSON CASANOVA",
            "photoUrl": "https://lh3.googleusercontent.com/a/default-user=s128",
            "userId": "107944237237310514363"
          }
        }
      },
      "cell_type": "code",
      "source": [
        "# Get the first images from the test-set.\n",
        "images = data.test.images[0:9]\n",
        "\n",
        "# Get the true classes for those images.\n",
        "cls_true = data.test.cls[0:9]\n",
        "\n",
        "# Plot the images and labels using our helper-function above.\n",
        "plot_images(images=images, cls_true=cls_true)"
      ],
      "execution_count": 12,
      "outputs": [
        {
          "output_type": "display_data",
          "data": {
            "image/png": "[encoded data removed]",
            "text/plain": [
              "<matplotlib.figure.Figure at 0x7f0803399630>"
            ]
          },
          "metadata": {
            "tags": []
          }
        }
      ]
    },
    {
      "metadata": {
        "id": "mV9pTN4O-9WI",
        "colab_type": "text"
      },
      "cell_type": "markdown",
      "source": [
        "## TensorFlow Graph\n",
        "\n",
        "O propósito do TensorFlow é ter um  grafo computacional que pode ser executado com muito mais eficiência do que se os mesmos cálculos fossem executados diretamente no Python. O TensorFlow pode ser mais eficiente que o NumPy porque o TensorFlow conhece todo o grafo de computação que deve ser executado, enquanto o NumPy só conhece o cálculo de uma única operação matemática por vez.\n",
        "\n",
        "O TensorFlow também pode grafocalcular automaticamente os gradientes necessários para otimizar as variáveis do grafo, a fim de melhorar o desempenho do modelo. Isso ocorre porque o grafo é uma combinação de expressões matemáticas simples, portanto, o gradiente do grafo inteiro pode ser calculado usando a regra de cadeia para derivadas.\n",
        "\n",
        "O TensorFlow também pode aproveitar CPUs multi-core, bem comograph GPUs - e o Google até criou chips especiais apenas para o TensorFlow, que são chamados de TPUs (Tensor Processing Units) e são ainda mais rápidos que os GPUs.\n",
        "\n",
        "Um grafo do TensorFlow consiste nas seguintes partes, que serão detalhadas abaixo:\n",
        "\n",
        "* Variáveis de espaço reservado (Placeholder) variáveis usadas para alterar a entrada para o grafo.\n",
        "* Variáveis do modelo   que serão otimizadas para melhorar o desempenho do modelo.\n",
        "* O modelo que é essencialmente apenas uma função matemática que calcula alguma saída, dada a entrada nas variáveis de espaço reservado e as variáveis do modelo .\n",
        "* Uma medida de custo que pode ser usada para guiar a otimização das variáveis.\n",
        "* Um método de otimização que atualiza as variáveis do modelo.\n",
        "\n",
        "Além disso, o grafo TensorFlow também pode conter várias declarações de depuração, por ex. para registrar os dados a serem exibidos usando o TensorBoard, que não é abordado neste tutorial."
      ]
    },
    {
      "metadata": {
        "id": "TLpRVU-n-9WM",
        "colab_type": "text"
      },
      "cell_type": "markdown",
      "source": [
        "### Placeholder variables"
      ]
    },
    {
      "metadata": {
        "id": "ttiOilXB-9WU",
        "colab_type": "text"
      },
      "cell_type": "markdown",
      "source": [
        "As variáveis de espaço reservado servem como entrada para o grafo que podemos alterar a cada vez que executamos o grafo. Chamamos isso de alimentar as variáveis de espaço reservado e isso é demonstrado mais adiante.\n",
        "\n",
        "Primeiro, definimos a variável de espaço reservado para as imagens de entrada. Isso nos permite alterar as imagens que são inseridas no grafo do TensorFlow. Este é um chamado tensor, o que significa apenas que é um vetor ou matriz multidimensional. O tipo de dados é definido como `float32` e a forma é definida como` [None, img_size_flat] `, onde` None` significa que o tensor pode conter um número arbitrário de imagens, sendo cada imagem um vetor de comprimento `img_size_flat` ."
      ]
    },
    {
      "metadata": {
        "id": "m3OFkAQE-9WY",
        "colab_type": "code",
        "colab": {
          "autoexec": {
            "startup": false,
            "wait_interval": 0
          }
        }
      },
      "cell_type": "code",
      "source": [
        "x = tf.placeholder(tf.float32, [None, img_size_flat])"
      ],
      "execution_count": 0,
      "outputs": []
    },
    {
      "metadata": {
        "id": "O_SKw0aJ-9Wk",
        "colab_type": "text"
      },
      "cell_type": "markdown",
      "source": [
        "Em seguida, temos a variável de espaço reservado para os rótulos verdadeiros associados às imagens que foram inseridas na variável de espaço reservado x. A forma dessa variável de espaço reservado é `[None, num_classes]`, o que significa que ela pode conter um número arbitrário de rótulos e cada rótulo é um vetor de comprimento `num_classes`, que é 10 neste caso."
      ]
    },
    {
      "metadata": {
        "id": "OCRorcCm-9W2",
        "colab_type": "code",
        "colab": {
          "autoexec": {
            "startup": false,
            "wait_interval": 0
          }
        }
      },
      "cell_type": "code",
      "source": [
        "y_true = tf.placeholder(tf.float32, [None, num_classes])"
      ],
      "execution_count": 0,
      "outputs": []
    },
    {
      "metadata": {
        "id": "L_3szr9I-9XE",
        "colab_type": "text"
      },
      "cell_type": "markdown",
      "source": [
        "Finalmente, temos a variável de espaço reservado para a verdadeira classe de cada imagem na variável de espaço reservado `x`. Estes são números inteiros e a dimensionalidade dessa variável de espaço reservado é definida como `[None]`, o que significa que a variável de espaço reservado é um vetor unidimensional de comprimento arbitrário.\n"
      ]
    },
    {
      "metadata": {
        "id": "CmPTCdd9-9XI",
        "colab_type": "code",
        "colab": {
          "autoexec": {
            "startup": false,
            "wait_interval": 0
          }
        }
      },
      "cell_type": "code",
      "source": [
        "y_true_cls = tf.placeholder(tf.int64, [None])"
      ],
      "execution_count": 0,
      "outputs": []
    },
    {
      "metadata": {
        "id": "8TbKO1Kv-9XQ",
        "colab_type": "text"
      },
      "cell_type": "markdown",
      "source": [
        "### Variáveis a serem otimizadas"
      ]
    },
    {
      "metadata": {
        "id": "XXTndS0v-9XU",
        "colab_type": "text"
      },
      "cell_type": "markdown",
      "source": [
        "Além das variáveis de espaço reservado que foram definidas acima e que servem como dados de entrada de alimentação no modelo, há também algumas variáveis de modelo que devem ser alteradas pelo TensorFlow para que o modelo tenha um melhor desempenho nos dados de treinamento.\n",
        "\n",
        "A primeira variável que deve ser otimizada é chamada de `weights`(pesos) e é definida aqui como uma variável TensorFlow que deve ser inicializada com zeros e cuja forma é` [img_size_flat, num_classes] `, portanto, é um tensor bidimensional (ou matriz) com as linhas `img_size_flat` e` num_classes`.\n"
      ]
    },
    {
      "metadata": {
        "id": "rVIyCkH--9XW",
        "colab_type": "code",
        "colab": {
          "autoexec": {
            "startup": false,
            "wait_interval": 0
          }
        }
      },
      "cell_type": "code",
      "source": [
        "weights = tf.Variable(tf.zeros([img_size_flat, num_classes]))"
      ],
      "execution_count": 0,
      "outputs": []
    },
    {
      "metadata": {
        "id": "30akkPDZ-9Xo",
        "colab_type": "text"
      },
      "cell_type": "markdown",
      "source": [
        "A segunda variável que deve ser otimizada é chamada de `biases` e é definida como um tensor unidimensional (ou vetor) de comprimento 'num_classes'."
      ]
    },
    {
      "metadata": {
        "id": "DfjHoBwU-9Xq",
        "colab_type": "code",
        "colab": {
          "autoexec": {
            "startup": false,
            "wait_interval": 0
          }
        }
      },
      "cell_type": "code",
      "source": [
        "biases = tf.Variable(tf.zeros([num_classes]))"
      ],
      "execution_count": 0,
      "outputs": []
    },
    {
      "metadata": {
        "id": "4tiKrliq-9X4",
        "colab_type": "text"
      },
      "cell_type": "markdown",
      "source": [
        "### Model"
      ]
    },
    {
      "metadata": {
        "id": "DJkC593K-9X8",
        "colab_type": "text"
      },
      "cell_type": "markdown",
      "source": [
        "Este modelo matemático simples multiplica as imagens na variável de espaço reservado `x` com os `weights` e, em seguida, adiciona os `biases`.\n",
        "\n",
        "O resultado é uma matriz de forma `[num_images, num_classes]` porque `x` tem forma` [num_images, img_size_flat] `e` weights` tem forma `[img_size_flat, num_classes]`, então a multiplicação dessas duas matrizes é uma matriz com forma `[num_images, num_classes]` e, em seguida, o vetor `biases` é adicionado a cada linha dessa matriz.\n",
        "\n",
        "Note que o nome `logits` é uma terminologia típica do TensorFlow, mas outras pessoas podem chamar a variável de outra coisa."
      ]
    },
    {
      "metadata": {
        "id": "am4k-0eI-9YA",
        "colab_type": "code",
        "colab": {
          "autoexec": {
            "startup": false,
            "wait_interval": 0
          }
        }
      },
      "cell_type": "code",
      "source": [
        "logits = tf.matmul(x, weights) + biases"
      ],
      "execution_count": 0,
      "outputs": []
    },
    {
      "metadata": {
        "id": "pUiBLUoI-9YE",
        "colab_type": "text"
      },
      "cell_type": "markdown",
      "source": [
        "Agora, `logits` é uma matriz com as linhas ` num_images` e `num_classes`, onde o elemento $i$ linhas e $j$ é uma estimativa de quão provável  a imagem de entrada  $i$'  é da classe $j$ '.\n",
        "\n",
        "No entanto, essas estimativas são um pouco ásperas e difíceis de interpretar porque os números podem ser muito pequenos ou grandes, então queremos normalizá-los para que cada linha da matriz `logits` 'seja somada a um, e cada elemento seja limitado entre zero e 1. Isso é calculado usando a chamada função softmax e o resultado é armazenado em `y_pred`."
      ]
    },
    {
      "metadata": {
        "id": "0rNpiwVf-9YK",
        "colab_type": "code",
        "colab": {
          "autoexec": {
            "startup": false,
            "wait_interval": 0
          }
        }
      },
      "cell_type": "code",
      "source": [
        "y_pred = tf.nn.softmax(logits)"
      ],
      "execution_count": 0,
      "outputs": []
    },
    {
      "metadata": {
        "id": "F5YqKpl2-9YQ",
        "colab_type": "text"
      },
      "cell_type": "markdown",
      "source": [
        "A classe prevista pode ser calculada a partir da matriz `y_pred` tomando o índice do maior elemento em cada linha."
      ]
    },
    {
      "metadata": {
        "id": "bAioGpXr-9YU",
        "colab_type": "code",
        "colab": {
          "autoexec": {
            "startup": false,
            "wait_interval": 0
          }
        }
      },
      "cell_type": "code",
      "source": [
        "y_pred_cls = tf.argmax(y_pred, axis=1)"
      ],
      "execution_count": 0,
      "outputs": []
    },
    {
      "metadata": {
        "id": "htUpCAoC-9Ya",
        "colab_type": "text"
      },
      "cell_type": "markdown",
      "source": [
        "### Função de custo a ser otimizado"
      ]
    },
    {
      "metadata": {
        "id": "AXLQWO2G-9Yc",
        "colab_type": "text"
      },
      "cell_type": "markdown",
      "source": [
        "Para tornar o modelo melhor na classificação das imagens de entrada, devemos de alguma forma alterar as variáveis para `weights` e` biases`. Para fazer isso, primeiro precisamos saber quão bem o modelo executa atualmente comparando a saída prevista do modelo `y_pred` com a saída desejada` y_true`.\n",
        "\n",
        "A entropia cruzada é uma medida de desempenho usada na classificação. A entropia cruzada é uma função contínua que é sempre positiva e se a saída prevista do modelo corresponder exatamente à saída desejada, a entropia cruzada será igual a zero. O objetivo da otimização é, portanto, minimizar a entropia cruzada para que ela chegue o mais próximo possível de zero, alterando os `weights` e os `biases` do modelo.\n",
        "\n",
        "TensorFlow tem uma função embutida para calcular a entropia cruzada. Note que ele usa os valores do `logits` porque também calcula o softmax internamente."
      ]
    },
    {
      "metadata": {
        "id": "LU5kvC8o-9Yc",
        "colab_type": "code",
        "colab": {
          "autoexec": {
            "startup": false,
            "wait_interval": 0
          },
          "output_extras": [
            {
              "item_id": 1
            }
          ],
          "base_uri": "https://localhost:8080/",
          "height": 180
        },
        "outputId": "014660c0-6f89-4c4a-d8dc-1d5c78438bbb",
        "executionInfo": {
          "status": "ok",
          "timestamp": 1521912845502,
          "user_tz": 180,
          "elapsed": 766,
          "user": {
            "displayName": "EDRESSON CASANOVA",
            "photoUrl": "https://lh3.googleusercontent.com/a/default-user=s128",
            "userId": "107944237237310514363"
          }
        }
      },
      "cell_type": "code",
      "source": [
        "cross_entropy = tf.nn.softmax_cross_entropy_with_logits(logits=logits,\n",
        "                                                        labels=y_true)"
      ],
      "execution_count": 21,
      "outputs": [
        {
          "output_type": "stream",
          "text": [
            "WARNING:tensorflow:From <ipython-input-21-a65440ade102>:2: softmax_cross_entropy_with_logits (from tensorflow.python.ops.nn_ops) is deprecated and will be removed in a future version.\n",
            "Instructions for updating:\n",
            "\n",
            "Future major versions of TensorFlow will allow gradients to flow\n",
            "into the labels input on backprop by default.\n",
            "\n",
            "See tf.nn.softmax_cross_entropy_with_logits_v2.\n",
            "\n"
          ],
          "name": "stdout"
        }
      ]
    },
    {
      "metadata": {
        "id": "OD_-8hNh-9Yi",
        "colab_type": "text"
      },
      "cell_type": "markdown",
      "source": [
        "Agora calculamos a entropia cruzada para cada uma das classificações de imagem, de forma que tenhamos uma medida de quão bem o modelo se comporta em cada imagem individualmente. Mas, para usar a entropia cruzada para guiar a otimização das variáveis do modelo, precisamos de um único valor escalar, de modo que simplesmente consideramos a média da entropia cruzada para todas as classificações de imagem."
      ]
    },
    {
      "metadata": {
        "id": "pLH7gCx7-9Yk",
        "colab_type": "code",
        "colab": {
          "autoexec": {
            "startup": false,
            "wait_interval": 0
          }
        }
      },
      "cell_type": "code",
      "source": [
        "cost = tf.reduce_mean(cross_entropy)"
      ],
      "execution_count": 0,
      "outputs": []
    },
    {
      "metadata": {
        "id": "SagIK1sx-9Yo",
        "colab_type": "text"
      },
      "cell_type": "markdown",
      "source": [
        "### Método de otimização"
      ]
    },
    {
      "metadata": {
        "id": "KAeXdvbj-9Yq",
        "colab_type": "text"
      },
      "cell_type": "markdown",
      "source": [
        "Agora que temos uma medida de custo que deve ser minimizada, podemos criar um otimizador. Neste caso, é a forma básica de Descida de Gradiente, em que o step-size é definido como 0,5.\n",
        "\n",
        "Observe que a otimização não é executada neste momento. Na verdade, nada é calculado, apenas adicionamos o objeto otimizador ao grafo do TensorFlow para execução posterior."
      ]
    },
    {
      "metadata": {
        "id": "YpQDBQ-l-9Yq",
        "colab_type": "code",
        "colab": {
          "autoexec": {
            "startup": false,
            "wait_interval": 0
          }
        }
      },
      "cell_type": "code",
      "source": [
        "optimizer = tf.train.GradientDescentOptimizer(learning_rate=0.5).minimize(cost)"
      ],
      "execution_count": 0,
      "outputs": []
    },
    {
      "metadata": {
        "id": "lQS5ncBh-9Y2",
        "colab_type": "text"
      },
      "cell_type": "markdown",
      "source": [
        "### Medidas de desempenho"
      ]
    },
    {
      "metadata": {
        "id": "5STGI3wG-9Y2",
        "colab_type": "text"
      },
      "cell_type": "markdown",
      "source": [
        "Precisamos de mais algumas medidas de desempenho para exibir o progresso para o usuário.\n",
        "\n",
        "Este é um vetor de booleanos se a classe prevista é igual à classe verdadeira de cada imagem."
      ]
    },
    {
      "metadata": {
        "id": "RzuYY0K8-9Y4",
        "colab_type": "code",
        "colab": {
          "autoexec": {
            "startup": false,
            "wait_interval": 0
          }
        }
      },
      "cell_type": "code",
      "source": [
        "correct_prediction = tf.equal(y_pred_cls, y_true_cls)"
      ],
      "execution_count": 0,
      "outputs": []
    },
    {
      "metadata": {
        "id": "zmaKylbF-9Y6",
        "colab_type": "text"
      },
      "cell_type": "markdown",
      "source": [
        "Isso calcula a exatidão da classificação primeiro convertendo o vetor de booleanos em floats, de modo que False se torne 0 e True se torne 1, e então calcule a média desses números."
      ]
    },
    {
      "metadata": {
        "id": "V7Qj_xmu-9Y8",
        "colab_type": "code",
        "colab": {
          "autoexec": {
            "startup": false,
            "wait_interval": 0
          }
        }
      },
      "cell_type": "code",
      "source": [
        "accuracy = tf.reduce_mean(tf.cast(correct_prediction, tf.float32))"
      ],
      "execution_count": 0,
      "outputs": []
    },
    {
      "metadata": {
        "id": "N87UGEZ8-9ZA",
        "colab_type": "text"
      },
      "cell_type": "markdown",
      "source": [
        "## TensorFlow Run"
      ]
    },
    {
      "metadata": {
        "id": "1PFxESJZ-9ZA",
        "colab_type": "text"
      },
      "cell_type": "markdown",
      "source": [
        "### Criar sessão do TensorFlow\n",
        "\n",
        "Uma vez que o grafo do TensorFlow foi criado, temos que criar uma sessão do TensorFlow que é usada para executar o grafo."
      ]
    },
    {
      "metadata": {
        "id": "cyvymA-e-9ZE",
        "colab_type": "code",
        "colab": {
          "autoexec": {
            "startup": false,
            "wait_interval": 0
          }
        }
      },
      "cell_type": "code",
      "source": [
        "session = tf.Session()"
      ],
      "execution_count": 0,
      "outputs": []
    },
    {
      "metadata": {
        "id": "lEymnWWF-9ZI",
        "colab_type": "text"
      },
      "cell_type": "markdown",
      "source": [
        "### Inicializar variáveis\n",
        "\n",
        "As variáveis para `weights` e `biases` devem ser inicializadas antes de começarmos a otimizá-las."
      ]
    },
    {
      "metadata": {
        "id": "0riCFNIw-9ZK",
        "colab_type": "code",
        "colab": {
          "autoexec": {
            "startup": false,
            "wait_interval": 0
          }
        }
      },
      "cell_type": "code",
      "source": [
        "session.run(tf.global_variables_initializer())"
      ],
      "execution_count": 0,
      "outputs": []
    },
    {
      "metadata": {
        "id": "gnQxw2DT-9ZO",
        "colab_type": "text"
      },
      "cell_type": "markdown",
      "source": [
        "### Função auxiliar para executar iterações de otimização"
      ]
    },
    {
      "metadata": {
        "id": "8yqykvk6-9ZQ",
        "colab_type": "text"
      },
      "cell_type": "markdown",
      "source": [
        "Existem 50.000 imagens no conjunto de treinamento. Demora muito tempo para calcular o gradiente do modelo usando todas essas imagens. Portanto, usamos a Descida de Gradiente Estocástica, que usa apenas um pequeno lote de imagens em cada iteração do otimizador."
      ]
    },
    {
      "metadata": {
        "id": "vb3c9K6p-9ZS",
        "colab_type": "code",
        "colab": {
          "autoexec": {
            "startup": false,
            "wait_interval": 0
          }
        }
      },
      "cell_type": "code",
      "source": [
        "batch_size = 100"
      ],
      "execution_count": 0,
      "outputs": []
    },
    {
      "metadata": {
        "id": "iywmRcxg-9ZY",
        "colab_type": "text"
      },
      "cell_type": "markdown",
      "source": [
        "Função para executar várias iterações de otimização para melhorar gradualmente os `weights` e `biases` do modelo. Em cada iteração, um novo lote de dados é selecionado a partir do conjunto de treinamento e, em seguida, o TensorFlow executa o otimizador usando essas amostras de treinamento."
      ]
    },
    {
      "metadata": {
        "id": "IwtNySZy-9Zg",
        "colab_type": "code",
        "colab": {
          "autoexec": {
            "startup": false,
            "wait_interval": 0
          }
        }
      },
      "cell_type": "code",
      "source": [
        "def optimize(num_iterations):\n",
        "    for i in range(num_iterations):\n",
        "        # Get a batch of training examples.\n",
        "        # x_batch now holds a batch of images and\n",
        "        # y_true_batch are the true labels for those images.\n",
        "        x_batch, y_true_batch = data.train.next_batch(batch_size)\n",
        "        \n",
        "        # Put the batch into a dict with the proper names\n",
        "        # for placeholder variables in the TensorFlow graph.\n",
        "        # Note that the placeholder for y_true_cls is not set\n",
        "        # because it is not used during training.\n",
        "        feed_dict_train = {x: x_batch,\n",
        "                           y_true: y_true_batch}\n",
        "\n",
        "        # Run the optimizer using this batch of training data.\n",
        "        # TensorFlow assigns the variables in feed_dict_train\n",
        "        # to the placeholder variables and then runs the optimizer.\n",
        "        session.run(optimizer, feed_dict=feed_dict_train)"
      ],
      "execution_count": 0,
      "outputs": []
    },
    {
      "metadata": {
        "id": "PNyl_h0G-9Zy",
        "colab_type": "text"
      },
      "cell_type": "markdown",
      "source": [
        "### Funções auxiliares para mostrar o desempenho"
      ]
    },
    {
      "metadata": {
        "id": "GvaoBCvr-9Zy",
        "colab_type": "text"
      },
      "cell_type": "markdown",
      "source": [
        "Dicionário com os dados do conjunto de teste a serem usados como entrada para o grafo do TensorFlow. Observe que devemos usar os nomes corretos para as variáveis de espaço reservado no grafo do TensorFlow."
      ]
    },
    {
      "metadata": {
        "id": "E4tjPcbJ-9Z0",
        "colab_type": "code",
        "colab": {
          "autoexec": {
            "startup": false,
            "wait_interval": 0
          }
        }
      },
      "cell_type": "code",
      "source": [
        "feed_dict_test = {x: data.test.images,\n",
        "                  y_true: data.test.labels,\n",
        "                  y_true_cls: data.test.cls}"
      ],
      "execution_count": 0,
      "outputs": []
    },
    {
      "metadata": {
        "id": "UF9PhVft-9Z6",
        "colab_type": "text"
      },
      "cell_type": "markdown",
      "source": [
        "Função para imprimir a precisão da classificação no conjunto de teste."
      ]
    },
    {
      "metadata": {
        "id": "so5Urf9W-9Z8",
        "colab_type": "code",
        "colab": {
          "autoexec": {
            "startup": false,
            "wait_interval": 0
          }
        }
      },
      "cell_type": "code",
      "source": [
        "def print_accuracy():\n",
        "    # Use TensorFlow to compute the accuracy.\n",
        "    acc = session.run(accuracy, feed_dict=feed_dict_test)\n",
        "    \n",
        "    # Print the accuracy.\n",
        "    print(\"Accuracy on test-set: {0:.1%}\".format(acc))"
      ],
      "execution_count": 0,
      "outputs": []
    },
    {
      "metadata": {
        "id": "1toXkoTe-9aA",
        "colab_type": "text"
      },
      "cell_type": "markdown",
      "source": [
        "Função para imprimir e plotar a matriz de confussion usando o scikit-learn."
      ]
    },
    {
      "metadata": {
        "id": "uKzsT8X8-9aE",
        "colab_type": "code",
        "colab": {
          "autoexec": {
            "startup": false,
            "wait_interval": 0
          }
        }
      },
      "cell_type": "code",
      "source": [
        "def print_confusion_matrix():\n",
        "    # Get the true classifications for the test-set.\n",
        "    cls_true = data.test.cls\n",
        "    \n",
        "    # Get the predicted classifications for the test-set.\n",
        "    cls_pred = session.run(y_pred_cls, feed_dict=feed_dict_test)\n",
        "\n",
        "    # Get the confusion matrix using sklearn.\n",
        "    cm = confusion_matrix(y_true=cls_true,\n",
        "                          y_pred=cls_pred)\n",
        "\n",
        "    # Print the confusion matrix as text.\n",
        "    print(cm)\n",
        "\n",
        "    # Plot the confusion matrix as an image.\n",
        "    plt.imshow(cm, interpolation='nearest', cmap=plt.cm.Blues)\n",
        "\n",
        "    # Make various adjustments to the plot.\n",
        "    plt.tight_layout()\n",
        "    plt.colorbar()\n",
        "    tick_marks = np.arange(num_classes)\n",
        "    plt.xticks(tick_marks, range(num_classes))\n",
        "    plt.yticks(tick_marks, range(num_classes))\n",
        "    plt.xlabel('Predicted')\n",
        "    plt.ylabel('True')\n",
        "    \n",
        "    # Ensure the plot is shown correctly with multiple plots\n",
        "    # in a single Notebook cell.\n",
        "    plt.show()"
      ],
      "execution_count": 0,
      "outputs": []
    },
    {
      "metadata": {
        "id": "s2V_pZNn-9aK",
        "colab_type": "text"
      },
      "cell_type": "markdown",
      "source": [
        "Função para plotar exemplos de imagens do conjunto de testes que foram classificadas incorretamente."
      ]
    },
    {
      "metadata": {
        "id": "_QY_9-95-9aM",
        "colab_type": "code",
        "colab": {
          "autoexec": {
            "startup": false,
            "wait_interval": 0
          }
        }
      },
      "cell_type": "code",
      "source": [
        "def plot_example_errors():\n",
        "    # Use TensorFlow to get a list of boolean values\n",
        "    # whether each test-image has been correctly classified,\n",
        "    # and a list for the predicted class of each image.\n",
        "    correct, cls_pred = session.run([correct_prediction, y_pred_cls],\n",
        "                                    feed_dict=feed_dict_test)\n",
        "\n",
        "    # Negate the boolean array.\n",
        "    incorrect = (correct == False)\n",
        "    \n",
        "    # Get the images from the test-set that have been\n",
        "    # incorrectly classified.\n",
        "    images = data.test.images[incorrect]\n",
        "    \n",
        "    # Get the predicted classes for those images.\n",
        "    cls_pred = cls_pred[incorrect]\n",
        "\n",
        "    # Get the true classes for those images.\n",
        "    cls_true = data.test.cls[incorrect]\n",
        "    \n",
        "    # Plot the first 9 images.\n",
        "    plot_images(images=images[0:9],\n",
        "                cls_true=cls_true[0:9],\n",
        "                cls_pred=cls_pred[0:9])"
      ],
      "execution_count": 0,
      "outputs": []
    },
    {
      "metadata": {
        "id": "GUuWM3s--9aQ",
        "colab_type": "text"
      },
      "cell_type": "markdown",
      "source": [
        "### Função auxiliar para plotar os pesos do modelo"
      ]
    },
    {
      "metadata": {
        "id": "19NXr9LQ-9aS",
        "colab_type": "text"
      },
      "cell_type": "markdown",
      "source": [
        "Função para traçar os 'pesos' do modelo. 10 imagens são plotadas, uma para cada dígito que o modelo é treinado para reconhecer."
      ]
    },
    {
      "metadata": {
        "id": "B7o1bp3_-9aS",
        "colab_type": "code",
        "colab": {
          "autoexec": {
            "startup": false,
            "wait_interval": 0
          }
        }
      },
      "cell_type": "code",
      "source": [
        "def plot_weights():\n",
        "    # Get the values for the weights from the TensorFlow variable.\n",
        "    w = session.run(weights)\n",
        "    \n",
        "    # Get the lowest and highest values for the weights.\n",
        "    # This is used to correct the colour intensity across\n",
        "    # the images so they can be compared with each other.\n",
        "    w_min = np.min(w)\n",
        "    w_max = np.max(w)\n",
        "\n",
        "    # Create figure with 3x4 sub-plots,\n",
        "    # where the last 2 sub-plots are unused.\n",
        "    fig, axes = plt.subplots(3, 4)\n",
        "    fig.subplots_adjust(hspace=0.3, wspace=0.3)\n",
        "\n",
        "    for i, ax in enumerate(axes.flat):\n",
        "        # Only use the weights for the first 10 sub-plots.\n",
        "        if i<10:\n",
        "            # Get the weights for the i'th digit and reshape it.\n",
        "            # Note that w.shape == (img_size_flat, 10)\n",
        "            image = w[:, i].reshape(img_shape)\n",
        "\n",
        "            # Set the label for the sub-plot.\n",
        "            ax.set_xlabel(\"Weights: {0}\".format(i))\n",
        "\n",
        "            # Plot the image.\n",
        "            ax.imshow(image, vmin=w_min, vmax=w_max, cmap='seismic')\n",
        "\n",
        "        # Remove ticks from each sub-plot.\n",
        "        ax.set_xticks([])\n",
        "        ax.set_yticks([])\n",
        "        \n",
        "    # Ensure the plot is shown correctly with multiple plots\n",
        "    # in a single Notebook cell.\n",
        "    plt.show()"
      ],
      "execution_count": 0,
      "outputs": []
    },
    {
      "metadata": {
        "id": "rlNd5clN-9aW",
        "colab_type": "text"
      },
      "cell_type": "markdown",
      "source": [
        "## Desempenho antes de qualquer otimização\n",
        "\n",
        "A precisão no conjunto de testes é de 9,8%. Isso ocorre porque o modelo só foi inicializado e não otimizado, então sempre prevê que a imagem mostre um dígito zero, como demonstrado no gráfico abaixo, e verifica-se que 9,8% das imagens no conjunto de testes acontecem para ser zero dígitos."
      ]
    },
    {
      "metadata": {
        "id": "I2prOCA2-9aY",
        "colab_type": "code",
        "colab": {
          "autoexec": {
            "startup": false,
            "wait_interval": 0
          },
          "output_extras": [
            {
              "item_id": 1
            }
          ],
          "base_uri": "https://localhost:8080/",
          "height": 36
        },
        "outputId": "3a7e6e1e-8697-4fa6-f1b5-5128818077a3",
        "executionInfo": {
          "status": "ok",
          "timestamp": 1521913032932,
          "user_tz": 180,
          "elapsed": 764,
          "user": {
            "displayName": "EDRESSON CASANOVA",
            "photoUrl": "https://lh3.googleusercontent.com/a/default-user=s128",
            "userId": "107944237237310514363"
          }
        }
      },
      "cell_type": "code",
      "source": [
        "print_accuracy()"
      ],
      "execution_count": 35,
      "outputs": [
        {
          "output_type": "stream",
          "text": [
            "Accuracy on test-set: 9.8%\n"
          ],
          "name": "stdout"
        }
      ]
    },
    {
      "metadata": {
        "id": "YKZcAb1j-9au",
        "colab_type": "code",
        "colab": {
          "autoexec": {
            "startup": false,
            "wait_interval": 0
          },
          "output_extras": [
            {
              "item_id": 1
            }
          ],
          "base_uri": "https://localhost:8080/",
          "height": 262
        },
        "outputId": "8543400b-fa90-43b6-c786-b0d0fccff0f6",
        "executionInfo": {
          "status": "ok",
          "timestamp": 1521913036122,
          "user_tz": 180,
          "elapsed": 1144,
          "user": {
            "displayName": "EDRESSON CASANOVA",
            "photoUrl": "https://lh3.googleusercontent.com/a/default-user=s128",
            "userId": "107944237237310514363"
          }
        }
      },
      "cell_type": "code",
      "source": [
        "plot_example_errors()"
      ],
      "execution_count": 36,
      "outputs": [
        {
          "output_type": "display_data",
          "data": {
            "image/png": "[encoded data removed]",
            "text/plain": [
              "<matplotlib.figure.Figure at 0x7f08030b6128>"
            ]
          },
          "metadata": {
            "tags": []
          }
        }
      ]
    },
    {
      "metadata": {
        "id": "y0Zz6uRO-9a0",
        "colab_type": "text"
      },
      "cell_type": "markdown",
      "source": [
        "## Desempenho após 1 iteração de otimização\n",
        "\n",
        "Após uma única iteração de otimização, o modelo aumentou sua precisão no conjunto de testes para 40,7% de 9,8%. Isso significa que ele classifica erroneamente as imagens em 6 de 10 vezes, conforme demonstrado em alguns exemplos abaixo."
      ]
    },
    {
      "metadata": {
        "id": "WNIMdHYY-9a0",
        "colab_type": "code",
        "colab": {
          "autoexec": {
            "startup": false,
            "wait_interval": 0
          }
        }
      },
      "cell_type": "code",
      "source": [
        "optimize(num_iterations=1)"
      ],
      "execution_count": 0,
      "outputs": []
    },
    {
      "metadata": {
        "id": "dH-hWPMp-9bA",
        "colab_type": "code",
        "colab": {
          "autoexec": {
            "startup": false,
            "wait_interval": 0
          },
          "output_extras": [
            {
              "item_id": 1
            }
          ],
          "base_uri": "https://localhost:8080/",
          "height": 36
        },
        "outputId": "a15854c3-1a7e-4ed5-c89d-0004a4ba6c5b",
        "executionInfo": {
          "status": "ok",
          "timestamp": 1521912700840,
          "user_tz": 180,
          "elapsed": 596,
          "user": {
            "displayName": "EDRESSON CASANOVA",
            "photoUrl": "https://lh3.googleusercontent.com/a/default-user=s128",
            "userId": "107944237237310514363"
          }
        }
      },
      "cell_type": "code",
      "source": [
        "print_accuracy()"
      ],
      "execution_count": 71,
      "outputs": [
        {
          "output_type": "stream",
          "text": [
            "Accuracy on test-set: 91.9%\n"
          ],
          "name": "stdout"
        }
      ]
    },
    {
      "metadata": {
        "id": "gHVj1Vgt-9bI",
        "colab_type": "code",
        "colab": {
          "autoexec": {
            "startup": false,
            "wait_interval": 0
          },
          "output_extras": [
            {
              "item_id": 1
            }
          ],
          "base_uri": "https://localhost:8080/",
          "height": 262
        },
        "outputId": "fc8c9d7e-c4d8-4dd3-ee97-d24841db2212",
        "executionInfo": {
          "status": "ok",
          "timestamp": 1521911559220,
          "user_tz": 180,
          "elapsed": 846,
          "user": {
            "displayName": "EDRESSON CASANOVA",
            "photoUrl": "https://lh3.googleusercontent.com/a/default-user=s128",
            "userId": "107944237237310514363"
          }
        }
      },
      "cell_type": "code",
      "source": [
        "plot_example_errors()"
      ],
      "execution_count": 48,
      "outputs": [
        {
          "output_type": "display_data",
          "data": {
            "image/png": "[encoded data removed]",
            "text/plain": [
              "<matplotlib.figure.Figure at 0x7f65ed72ea58>"
            ]
          },
          "metadata": {
            "tags": []
          }
        }
      ]
    },
    {
      "metadata": {
        "id": "pngAoavV-9bO",
        "colab_type": "text"
      },
      "cell_type": "markdown",
      "source": [
        "Os pesos (weights) também podem ser plotados como mostrado abaixo. Pesos positivos são vermelhos e pesos negativos são azuis. Esses pesos podem ser intuitivamente entendidos como filtros de imagem.\n",
        "\n",
        "Por exemplo, os pesos usados para determinar se uma imagem mostra um dígito zero têm uma reação positiva (vermelha) a uma imagem de um círculo e têm uma reação negativa (azul) a imagens com conteúdo no centro do círculo.\n",
        "\n",
        "Da mesma forma, os pesos usados para determinar se uma imagem mostra um dígito reage positivamente (vermelho) a uma linha vertical no centro da imagem e reage negativamente (azul) a imagens com conteúdo em torno dessa linha.\n",
        "\n",
        "Note que os pesos são parecidos com os dígitos que eles deveriam reconhecer. Isso ocorre porque apenas uma iteração de otimização foi executada, de forma que os pesos são treinados apenas em 100 imagens. Após o treinamento em vários milhares de imagens, os pesos tornam-se mais difíceis de interpretar porque eles precisam reconhecer muitas variações de como os dígitos podem ser escritos."
      ]
    },
    {
      "metadata": {
        "id": "HnXHIrzj-9bQ",
        "colab_type": "code",
        "colab": {
          "autoexec": {
            "startup": false,
            "wait_interval": 0
          },
          "output_extras": [
            {
              "item_id": 1
            }
          ],
          "base_uri": "https://localhost:8080/",
          "height": 262
        },
        "outputId": "126654b6-3350-44a2-aca2-91141b3f45ec",
        "executionInfo": {
          "status": "ok",
          "timestamp": 1521913053718,
          "user_tz": 180,
          "elapsed": 1638,
          "user": {
            "displayName": "EDRESSON CASANOVA",
            "photoUrl": "https://lh3.googleusercontent.com/a/default-user=s128",
            "userId": "107944237237310514363"
          }
        }
      },
      "cell_type": "code",
      "source": [
        "plot_weights()"
      ],
      "execution_count": 38,
      "outputs": [
        {
          "output_type": "display_data",
          "data": {
            "image/png": "[encoded data removed]",
            "text/plain": [
              "<matplotlib.figure.Figure at 0x7f08030b6320>"
            ]
          },
          "metadata": {
            "tags": []
          }
        }
      ]
    },
    {
      "metadata": {
        "id": "vYCvsW81-9bU",
        "colab_type": "text"
      },
      "cell_type": "markdown",
      "source": [
        "## Desempenho após 10 iterações de otimização"
      ]
    },
    {
      "metadata": {
        "id": "xxlpzpHX-9bW",
        "colab_type": "code",
        "colab": {
          "autoexec": {
            "startup": false,
            "wait_interval": 0
          }
        }
      },
      "cell_type": "code",
      "source": [
        "# We have already performed 1 iteration.\n",
        "optimize(num_iterations=9)"
      ],
      "execution_count": 0,
      "outputs": []
    },
    {
      "metadata": {
        "id": "I3GKW42l-9bY",
        "colab_type": "code",
        "colab": {
          "autoexec": {
            "startup": false,
            "wait_interval": 0
          },
          "output_extras": [
            {
              "item_id": 1
            }
          ],
          "base_uri": "https://localhost:8080/",
          "height": 36
        },
        "outputId": "7c19b40b-1781-4805-dbe6-cce64c1c765c",
        "executionInfo": {
          "status": "ok",
          "timestamp": 1521913061262,
          "user_tz": 180,
          "elapsed": 1064,
          "user": {
            "displayName": "EDRESSON CASANOVA",
            "photoUrl": "https://lh3.googleusercontent.com/a/default-user=s128",
            "userId": "107944237237310514363"
          }
        }
      },
      "cell_type": "code",
      "source": [
        "print_accuracy()"
      ],
      "execution_count": 40,
      "outputs": [
        {
          "output_type": "stream",
          "text": [
            "Accuracy on test-set: 76.6%\n"
          ],
          "name": "stdout"
        }
      ]
    },
    {
      "metadata": {
        "id": "7ZbhxlmB-9be",
        "colab_type": "code",
        "colab": {
          "autoexec": {
            "startup": false,
            "wait_interval": 0
          },
          "output_extras": [
            {
              "item_id": 1
            }
          ],
          "base_uri": "https://localhost:8080/",
          "height": 262
        },
        "outputId": "2a9cf0e9-cc09-42f9-ea3a-65f6a6f83e39",
        "executionInfo": {
          "status": "ok",
          "timestamp": 1521913064106,
          "user_tz": 180,
          "elapsed": 1230,
          "user": {
            "displayName": "EDRESSON CASANOVA",
            "photoUrl": "https://lh3.googleusercontent.com/a/default-user=s128",
            "userId": "107944237237310514363"
          }
        }
      },
      "cell_type": "code",
      "source": [
        "plot_example_errors()"
      ],
      "execution_count": 41,
      "outputs": [
        {
          "output_type": "display_data",
          "data": {
            "image/png": "[encoded data removed]",
            "text/plain": [
              "<matplotlib.figure.Figure at 0x7f08030b6940>"
            ]
          },
          "metadata": {
            "tags": []
          }
        }
      ]
    },
    {
      "metadata": {
        "id": "3p-gnDBM-9bm",
        "colab_type": "code",
        "colab": {
          "autoexec": {
            "startup": false,
            "wait_interval": 0
          },
          "output_extras": [
            {
              "item_id": 1
            }
          ],
          "base_uri": "https://localhost:8080/",
          "height": 262
        },
        "outputId": "6ed3ef69-2861-416c-c006-a354be0b47db",
        "executionInfo": {
          "status": "ok",
          "timestamp": 1521913068738,
          "user_tz": 180,
          "elapsed": 1260,
          "user": {
            "displayName": "EDRESSON CASANOVA",
            "photoUrl": "https://lh3.googleusercontent.com/a/default-user=s128",
            "userId": "107944237237310514363"
          }
        }
      },
      "cell_type": "code",
      "source": [
        "plot_weights()"
      ],
      "execution_count": 42,
      "outputs": [
        {
          "output_type": "display_data",
          "data": {
            "image/png": "[encoded data removed]",
            "text/plain": [
              "<matplotlib.figure.Figure at 0x7f08033cbbe0>"
            ]
          },
          "metadata": {
            "tags": []
          }
        }
      ]
    },
    {
      "metadata": {
        "id": "9HE7ALfo-9bs",
        "colab_type": "text"
      },
      "cell_type": "markdown",
      "source": [
        "## Desempenho após 1000 iterações de otimização\n",
        "\n",
        "Após 1000 iterações de otimização, o modelo só classifica erroneamente cerca de uma em dez imagens. Como demonstrado abaixo, algumas das  falsas classificações são justificadas porque as imagens são muito difíceis de determinar com certeza, mesmo para os seres humanos, enquanto outras são bastante óbvias e deveriam ter sido classificadas corretamente por um bom modelo. Mas esse modelo simples não pode alcançar um desempenho muito melhor e, portanto, são necessários modelos mais complexos."
      ]
    },
    {
      "metadata": {
        "id": "L102rRlp-9bu",
        "colab_type": "code",
        "colab": {
          "autoexec": {
            "startup": false,
            "wait_interval": 0
          }
        }
      },
      "cell_type": "code",
      "source": [
        "# We have already performed 10 iterations.\n",
        "optimize(num_iterations=990)"
      ],
      "execution_count": 0,
      "outputs": []
    },
    {
      "metadata": {
        "id": "pBCx7tiH-9by",
        "colab_type": "code",
        "colab": {
          "autoexec": {
            "startup": false,
            "wait_interval": 0
          },
          "output_extras": [
            {
              "item_id": 1
            }
          ],
          "base_uri": "https://localhost:8080/",
          "height": 36
        },
        "outputId": "6938167d-a1f2-44e5-c3bb-b69d608037c5",
        "executionInfo": {
          "status": "ok",
          "timestamp": 1521913080020,
          "user_tz": 180,
          "elapsed": 708,
          "user": {
            "displayName": "EDRESSON CASANOVA",
            "photoUrl": "https://lh3.googleusercontent.com/a/default-user=s128",
            "userId": "107944237237310514363"
          }
        }
      },
      "cell_type": "code",
      "source": [
        "print_accuracy()"
      ],
      "execution_count": 44,
      "outputs": [
        {
          "output_type": "stream",
          "text": [
            "Accuracy on test-set: 91.7%\n"
          ],
          "name": "stdout"
        }
      ]
    },
    {
      "metadata": {
        "id": "C0FhPvC2-9b4",
        "colab_type": "code",
        "colab": {
          "autoexec": {
            "startup": false,
            "wait_interval": 0
          },
          "output_extras": [
            {
              "item_id": 1
            }
          ],
          "base_uri": "https://localhost:8080/",
          "height": 262
        },
        "outputId": "e922fb06-10de-40f2-ebb4-e0f740ebc404",
        "executionInfo": {
          "status": "ok",
          "timestamp": 1521913083488,
          "user_tz": 180,
          "elapsed": 1230,
          "user": {
            "displayName": "EDRESSON CASANOVA",
            "photoUrl": "https://lh3.googleusercontent.com/a/default-user=s128",
            "userId": "107944237237310514363"
          }
        }
      },
      "cell_type": "code",
      "source": [
        "plot_example_errors()"
      ],
      "execution_count": 45,
      "outputs": [
        {
          "output_type": "display_data",
          "data": {
            "image/png": "[encoded data removed]",
            "text/plain": [
              "<matplotlib.figure.Figure at 0x7f08030b6f98>"
            ]
          },
          "metadata": {
            "tags": []
          }
        }
      ]
    },
    {
      "metadata": {
        "id": "ROwUMn69-9b8",
        "colab_type": "text"
      },
      "cell_type": "markdown",
      "source": [
        "O modelo foi treinado para 1000 iterações de otimização, com cada iteração usando 100 imagens do conjunto de treinamento. Devido à grande variedade de imagens, os pesos tornaram-se difíceis de interpretar e podemos duvidar se o modelo realmente entende como os dígitos são compostos de linhas, ou se o modelo acabou de memorizar muitas variações diferentes de pixels."
      ]
    },
    {
      "metadata": {
        "id": "KyuDpehs-9b-",
        "colab_type": "code",
        "colab": {
          "autoexec": {
            "startup": false,
            "wait_interval": 0
          },
          "output_extras": [
            {
              "item_id": 1
            }
          ],
          "base_uri": "https://localhost:8080/",
          "height": 262
        },
        "outputId": "42f03b9a-0784-4053-da8a-aed972333658",
        "executionInfo": {
          "status": "ok",
          "timestamp": 1521913087346,
          "user_tz": 180,
          "elapsed": 1716,
          "user": {
            "displayName": "EDRESSON CASANOVA",
            "photoUrl": "https://lh3.googleusercontent.com/a/default-user=s128",
            "userId": "107944237237310514363"
          }
        }
      },
      "cell_type": "code",
      "source": [
        "plot_weights()"
      ],
      "execution_count": 46,
      "outputs": [
        {
          "output_type": "display_data",
          "data": {
            "image/png": "[encoded data removed]",
            "text/plain": [
              "<matplotlib.figure.Figure at 0x7f08030b6358>"
            ]
          },
          "metadata": {
            "tags": []
          }
        }
      ]
    },
    {
      "metadata": {
        "id": "WbGgp33y-9cC",
        "colab_type": "text"
      },
      "cell_type": "markdown",
      "source": [
        "Também podemos imprimir e traçar a chamada matriz de confusão, que nos permite ver mais detalhes sobre as falsas classificações. Por exemplo, isso mostra que as imagens que na verdade representam um 5 foram às vezes classificadas incorretamente como todos os outros dígitos possíveis, mas principalmente 3, 6 ou 8."
      ]
    },
    {
      "metadata": {
        "id": "mkIi0UQR-9cE",
        "colab_type": "code",
        "colab": {
          "autoexec": {
            "startup": false,
            "wait_interval": 0
          },
          "output_extras": [
            {
              "item_id": 1
            },
            {
              "item_id": 2
            }
          ],
          "base_uri": "https://localhost:8080/",
          "height": 490
        },
        "outputId": "37633375-f10e-4ae4-e50b-6ca2407e6932",
        "executionInfo": {
          "status": "ok",
          "timestamp": 1521913117282,
          "user_tz": 180,
          "elapsed": 986,
          "user": {
            "displayName": "EDRESSON CASANOVA",
            "photoUrl": "https://lh3.googleusercontent.com/a/default-user=s128",
            "userId": "107944237237310514363"
          }
        }
      },
      "cell_type": "code",
      "source": [
        "print_confusion_matrix()"
      ],
      "execution_count": 49,
      "outputs": [
        {
          "output_type": "stream",
          "text": [
            "[[ 963    0    0    1    0    4    9    1    2    0]\n",
            " [   0 1109    2    2    0    1    4    2   15    0]\n",
            " [  11   13  883   15   10    3   14   17   56   10]\n",
            " [   4    1   12  885    0   43    3   17   36    9]\n",
            " [   1    3    2    1  902    0   13    3   12   45]\n",
            " [   9    4    3   23    8  777   15    7   39    7]\n",
            " [  14    3    3    1   10   15  902    3    7    0]\n",
            " [   3   13   18    7    5    1    0  948    3   30]\n",
            " [   4    6    3   15    7   19    9   10  896    5]\n",
            " [  11    9    2    7   27    7    0   25   13  908]]\n"
          ],
          "name": "stdout"
        },
        {
          "output_type": "display_data",
          "data": {
            "image/png": "[encoded data removed]",
            "text/plain": [
              "<matplotlib.figure.Figure at 0x7f07fe6dbf28>"
            ]
          },
          "metadata": {
            "tags": []
          }
        }
      ]
    },
    {
      "metadata": {
        "id": "4EUvPKC2-9cI",
        "colab_type": "text"
      },
      "cell_type": "markdown",
      "source": [
        "Agora acabamos de usar o TensorFlow, então fechamos a sessão para liberar seus recursos."
      ]
    },
    {
      "metadata": {
        "id": "xvPGK96f-9cK",
        "colab_type": "code",
        "colab": {
          "autoexec": {
            "startup": false,
            "wait_interval": 0
          }
        }
      },
      "cell_type": "code",
      "source": [
        "# Isso foi comentado caso você queira modificar e experimentar com o Notebook sem ter que reiniciá-lo.\n",
        "# session.close()"
      ],
      "execution_count": 0,
      "outputs": []
    },
    {
      "metadata": {
        "id": "ih0spmp0-9cY",
        "colab_type": "text"
      },
      "cell_type": "markdown",
      "source": [
        "## Exercises\n",
        "\n",
        "Estas são algumas sugestões de exercícios que podem ajudar a melhorar suas habilidades com o TensorFlow. É importante ter experiência prática com o TensorFlow para aprender a usá-lo corretamente.\n",
        "\n",
        "Você pode querer fazer backup deste Notebook antes de fazer qualquer alteração.\n",
        "\n",
        "* Altere a taxa de aprendizado do otimizador.\n",
        "* Altere o otimizador para, e. `AdagradOptimizer` ou` AdamOptimizer`.\n",
        "* Altere o tamanho do lote para, por exemplo, 1 ou 1000.\n",
        "* Como essas mudanças afetam o desempenho? Você acha que essas mudanças terão o mesmo efeito (se houver) em outros problemas de classificação e modelos matemáticos?\n",
        "* Você obtém os mesmos resultados se executar o Notebook várias vezes sem alterar nenhum parâmetro? Por que ou por que não?\n",
        "* Mude a função `plot_example_errors ()` para que também imprima os valores `logits` e` y_pred` para os exemplos mal classificados.\n",
        "* Use `sparse_softmax_cross_entropy_with_logits` em vez de` softmax_cross_entropy_with_logits`. Isso pode exigir várias alterações em vários locais no código-fonte. Discuta as vantagens e desvantagens de usar os dois métodos.\n",
        "* Reformule o programa você mesmo sem olhar muito neste código-fonte.\n",
        "* Explique a um amigo como o programa funciona."
      ]
    },
    {
      "metadata": {
        "id": "PH5MgdRk-9ca",
        "colab_type": "text"
      },
      "cell_type": "markdown",
      "source": [
        "## License (MIT)\n",
        "\n",
        "Copyright (c) 2016 by [Magnus Erik Hvass Pedersen](http://www.hvass-labs.org/)\n",
        "\n",
        "Permission is hereby granted, free of charge, to any person obtaining a copy of this software and associated documentation files (the \"Software\"), to deal in the Software without restriction, including without limitation the rights to use, copy, modify, merge, publish, distribute, sublicense, and/or sell copies of the Software, and to permit persons to whom the Software is furnished to do so, subject to the following conditions:\n",
        "\n",
        "The above copyright notice and this permission notice shall be included in all copies or substantial portions of the Software.\n",
        "\n",
        "THE SOFTWARE IS PROVIDED \"AS IS\", WITHOUT WARRANTY OF ANY KIND, EXPRESS OR IMPLIED, INCLUDING BUT NOT LIMITED TO THE WARRANTIES OF MERCHANTABILITY, FITNESS FOR A PARTICULAR PURPOSE AND NONINFRINGEMENT. IN NO EVENT SHALL THE AUTHORS OR COPYRIGHT HOLDERS BE LIABLE FOR ANY CLAIM, DAMAGES OR OTHER LIABILITY, WHETHER IN AN ACTION OF CONTRACT, TORT OR OTHERWISE, ARISING FROM, OUT OF OR IN CONNECTION WITH THE SOFTWARE OR THE USE OR OTHER DEALINGS IN THE SOFTWARE."
      ]
    }
  ]
}